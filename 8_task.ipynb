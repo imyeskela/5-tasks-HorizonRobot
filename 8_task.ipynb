{
 "cells": [
  {
   "cell_type": "code",
   "execution_count": 159,
   "id": "2b3be50b",
   "metadata": {},
   "outputs": [
    {
     "ename": "LoadError",
     "evalue": "InterruptException:",
     "output_type": "error",
     "traceback": [
      "InterruptException:",
      "",
      "Stacktrace:",
      "  [1] try_yieldto(undo::typeof(Base.ensure_rescheduled))",
      "    @ Base .\\task.jl:871",
      "  [2] wait()",
      "    @ Base .\\task.jl:931",
      "  [3] wait(c::Base.GenericCondition{Base.Threads.SpinLock})",
      "    @ Base .\\condition.jl:124",
      "  [4] _trywait(t::Timer)",
      "    @ Base .\\asyncevent.jl:138",
      "  [5] wait",
      "    @ .\\asyncevent.jl:155 [inlined]",
      "  [6] sleep(sec::Float64)",
      "    @ Base .\\asyncevent.jl:240",
      "  [7] move!(r::Robot, side::HorizonSide)",
      "    @ HorizonSideRobots C:\\Users\\aoglo\\.julia\\packages\\HorizonSideRobots\\UumzG\\src\\HorizonSideRobots.jl:75",
      "  [8] along!(stop_condition::typeof(stop_condition), robot::Robot, direct::HorizonSide)",
      "    @ Main .\\In[159]:13",
      "  [9] snake!(stop_condition::typeof(stop_condition), r::Robot, ::Tuple{HorizonSide, HorizonSide}) (repeats 2 times)",
      "    @ Main .\\In[159]:27",
      " [10] top-level scope",
      "    @ In[159]:34",
      " [11] eval",
      "    @ .\\boot.jl:368 [inlined]",
      " [12] include_string(mapexpr::typeof(REPL.softscope), mod::Module, code::String, filename::String)",
      "    @ Base .\\loading.jl:1428"
     ]
    }
   ],
   "source": [
    "using HorizonSideRobots\n",
    "r = Robot(\"fields/8task.sit\", animate=true)\n",
    "\n",
    "function stop_condition()\n",
    "    if ismarker(r) == true\n",
    "        return true\n",
    "    else\n",
    "        return false end\n",
    "end\n",
    "        \n",
    "function along!(stop_condition::Function, robot::Robot, direct::HorizonSide)::Nothing\n",
    "    while stop_condition(r) != true\n",
    "        move!(robot, direct)\n",
    "    end\n",
    "end\n",
    "\n",
    "function try_move!(robot, direct)\n",
    "    if isborder(robot, direct)\n",
    "        return false\n",
    "    end\n",
    "    move!(robot, direct)\n",
    "    return true\n",
    "end\n",
    "\n",
    "function snake!(stop_condition::Function, r::Robot, (move_side, next_row_side)::NTuple{2,HorizonSide} = (Nord, Ost)) # - это обобщенная функция\n",
    "    # Робот - в (inverse(next_row_side), inverse(move_side))-углу поля\n",
    "    along!(stop_condition, r, move_side)\n",
    "    while stop_condition(r) != true && try_move!(r, next_row_side)\n",
    "        move_side = inverse(move_side)\n",
    "        along!(stop_condition, r, move_side)\n",
    "    end\n",
    "end\n",
    "\n",
    "snake!(stop_condition, r)"
   ]
  }
 ],
 "metadata": {
  "kernelspec": {
   "display_name": "Julia 1.8.0",
   "language": "julia",
   "name": "julia-1.8"
  },
  "language_info": {
   "file_extension": ".jl",
   "mimetype": "application/julia",
   "name": "julia",
   "version": "1.8.0"
  }
 },
 "nbformat": 4,
 "nbformat_minor": 5
}
